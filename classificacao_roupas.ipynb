{
  "nbformat": 4,
  "nbformat_minor": 0,
  "metadata": {
    "colab": {
      "provenance": [],
      "authorship_tag": "ABX9TyPzAVt0dbJ503v8F70UUPe6",
      "include_colab_link": true
    },
    "kernelspec": {
      "name": "python3",
      "display_name": "Python 3"
    },
    "language_info": {
      "name": "python"
    }
  },
  "cells": [
    {
      "cell_type": "markdown",
      "metadata": {
        "id": "view-in-github",
        "colab_type": "text"
      },
      "source": [
        "<a href=\"https://colab.research.google.com/github/lucamrtm/deep_learning_pt1_Keras/blob/main/classificacao_roupas.ipynb\" target=\"_parent\"><img src=\"https://colab.research.google.com/assets/colab-badge.svg\" alt=\"Open In Colab\"/></a>"
      ]
    },
    {
      "cell_type": "markdown",
      "source": [
        "Imports"
      ],
      "metadata": {
        "id": "Atz5gHUQ8eYZ"
      }
    },
    {
      "cell_type": "code",
      "source": [
        "import tensorflow\n",
        "from tensorflow import keras\n",
        "import matplotlib.pyplot as plt\n",
        "import numpy as np\n",
        "from tensorflow.keras.models import load_model"
      ],
      "metadata": {
        "id": "vFIyeDhJ8ICL"
      },
      "execution_count": 1,
      "outputs": []
    },
    {
      "cell_type": "markdown",
      "source": [
        "Carregando o dataset"
      ],
      "metadata": {
        "id": "_nJmXSC98qGY"
      }
    },
    {
      "cell_type": "code",
      "source": [
        "dataset = keras.datasets.fashion_mnist\n",
        "((imagens_treino, identificacoes_treino), (imagens_teste, identificacoes_teste)) = dataset.load_data()"
      ],
      "metadata": {
        "id": "TADfQxJj8QnJ"
      },
      "execution_count": 2,
      "outputs": []
    },
    {
      "cell_type": "markdown",
      "source": [
        "Exploração dos dados"
      ],
      "metadata": {
        "id": "Tb542iHN8uiw"
      }
    },
    {
      "cell_type": "code",
      "source": [
        "len(imagens_treino)\n",
        "imagens_treino.shape\n",
        "imagens_teste.shape\n",
        "len(identificacoes_teste)\n",
        "identificacoes_treino.min()\n",
        "identificacoes_treino.max()"
      ],
      "metadata": {
        "id": "S5alNVcq8Tg1"
      },
      "execution_count": null,
      "outputs": []
    },
    {
      "cell_type": "markdown",
      "source": [
        "Exibição dos dados"
      ],
      "metadata": {
        "id": "eR8XJyrr84q7"
      }
    },
    {
      "cell_type": "code",
      "execution_count": null,
      "metadata": {
        "id": "UJKE0KWsmRtQ"
      },
      "outputs": [],
      "source": [
        "\n",
        "total_de_classificacoes = 10\n",
        "nomes_de_classificacoes = ['Camiseta', 'Calça', 'Pullover',\n",
        "                           'Vestido', 'Casaco', 'Sandália', 'Camisa',\n",
        "                           'Tênis', 'Bolsa', 'Bota']\n",
        "\n",
        "plt.imshow(imagens_treino[0])\n",
        "plt.colorbar()"
      ]
    },
    {
      "cell_type": "markdown",
      "source": [
        "Normalizando as imagens"
      ],
      "metadata": {
        "id": "oDhrZT0k_Dmi"
      }
    },
    {
      "cell_type": "code",
      "source": [
        "#normalização ( para reduzir a perda(loss), \"traduz\" os 255 valores de cinza para numeros entre 0 e 1)\n",
        "imagens_treino = imagens_treino/float(255)"
      ],
      "metadata": {
        "id": "DL7cwO2tzbeb"
      },
      "execution_count": 4,
      "outputs": []
    },
    {
      "cell_type": "markdown",
      "source": [
        "Criando, compilando, treinando e normalizando o modelo"
      ],
      "metadata": {
        "id": "TolMsshc_FB_"
      }
    },
    {
      "cell_type": "code",
      "source": [
        "\n",
        "modelo = keras.Sequential([\n",
        "  keras.layers.Flatten(input_shape = (28,28)),\n",
        "  keras.layers.Dense(256, activation = tensorflow.nn.relu),\n",
        "  keras.layers.Dropout(0.2),\n",
        "  keras.layers.Dense(10, activation = tensorflow.nn.softmax)\n",
        "])\n",
        "\n",
        "modelo.compile(optimizer='adam', loss='sparse_categorical_crossentropy', metrics = ['accuracy'])\n",
        "\n",
        "historico = modelo.fit(imagens_treino, identificacoes_treino, epochs = 5, validation_split = 0.2)\n"
      ],
      "metadata": {
        "id": "UQqwOwLi901_"
      },
      "execution_count": null,
      "outputs": []
    },
    {
      "cell_type": "markdown",
      "source": [
        "Salvando e carregando o modelo treinado"
      ],
      "metadata": {
        "id": "2Ix6alsm_a1I"
      }
    },
    {
      "cell_type": "code",
      "source": [
        "\n",
        "modelo.save('modelo_epochs5_nos3.h5')\n",
        "modelo_salvo = load_model('modelo_epochs5_nos3.h5')"
      ],
      "metadata": {
        "id": "rnVa8xrp88fV"
      },
      "execution_count": null,
      "outputs": []
    },
    {
      "cell_type": "markdown",
      "source": [
        "Visualizando as acrurácias de treino e validação por época\n"
      ],
      "metadata": {
        "id": "M0YjQJUS_fnC"
      }
    },
    {
      "cell_type": "code",
      "source": [
        "plt.plot(historico.history['accuracy'])\n",
        "plt.plot(historico.history['val_accuracy'])\n",
        "plt.title('Acurácia por épocas')\n",
        "plt.xlabel('épocas')\n",
        "plt.ylabel('acurácia')\n",
        "plt.legend(['treino', 'avaliação'])"
      ],
      "metadata": {
        "id": "BZzPmWpH5Tb8"
      },
      "execution_count": null,
      "outputs": []
    },
    {
      "cell_type": "markdown",
      "source": [
        "Visualizando as perdas de treino e validação por época"
      ],
      "metadata": {
        "id": "m1-t08PF_vC9"
      }
    },
    {
      "cell_type": "code",
      "source": [
        "plt.plot(historico.history['loss'])\n",
        "plt.plot(historico.history['val_loss'])\n",
        "plt.title('Perda por épocas')\n",
        "plt.xlabel('épocas')\n",
        "plt.ylabel('perda')\n",
        "plt.legend(['treino', 'validação'])"
      ],
      "metadata": {
        "id": "YZziXDPi6o2U"
      },
      "execution_count": null,
      "outputs": []
    },
    {
      "cell_type": "markdown",
      "source": [
        "Testando o modelo"
      ],
      "metadata": {
        "id": "kuOtRBfJ_y9O"
      }
    },
    {
      "cell_type": "code",
      "source": [
        "testes = modelo.predict(imagens_teste)\n",
        "print('resultado teste:', np.argmax(testes[1]))\n",
        "print('numero da imagem de teste:', identificacoes_teste[1])"
      ],
      "metadata": {
        "id": "O4iC7Ykl2vm_"
      },
      "execution_count": null,
      "outputs": []
    },
    {
      "cell_type": "markdown",
      "source": [
        "Avaliando o modelo"
      ],
      "metadata": {
        "id": "JU7G5eKa_0an"
      }
    },
    {
      "cell_type": "code",
      "source": [
        "perda_teste, acuracia_teste = modelo.evaluate(imagens_teste, identificacoes_teste)\n",
        "print('Perda do teste:', perda_teste)\n",
        "print('Acurácia do teste:', acuracia_teste)"
      ],
      "metadata": {
        "id": "2OyL0lOO3ihe"
      },
      "execution_count": null,
      "outputs": []
    }
  ]
}